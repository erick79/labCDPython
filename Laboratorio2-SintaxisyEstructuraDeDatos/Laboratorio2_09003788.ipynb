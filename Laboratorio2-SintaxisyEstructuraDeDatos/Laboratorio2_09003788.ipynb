{
 "cells": [
  {
   "cell_type": "markdown",
   "id": "a868ade0-b0ba-4f8f-8892-7166cf54ba81",
   "metadata": {},
   "source": [
    "# UNIVERSIDAD GALIELO\n",
    "# ERICK SANABRIA\n",
    "# CARNET: 09003788\n",
    "# LABORATORIO 2"
   ]
  },
  {
   "cell_type": "markdown",
   "id": "dc2953ed-3bb4-451d-b424-702f8088a731",
   "metadata": {},
   "source": [
    "### Parte #1 - (Programaci´on y Sintaxis):\n",
    "1. Haga un programa en Python que reciba de parámetro un número de segundos y que despliegue en pantalla, las horas, minutos y segundos que representan. Por ejemplo:\n",
    "Si el número de segundos recibidos fuera: 2743 entonces su programa debería desplegar:\n",
    "Horas: 0, Minutos: 45 , Segundos: 43\n",
    "Si el nu´mero de segundos recibidos fuera 5871: Horas: 1, Minutos: 37 , Segundos: 51\n",
    "Recuerde manejar excepciones y errores que considere necesarios"
   ]
  },
  {
   "cell_type": "code",
   "execution_count": 31,
   "id": "744e3866-4609-41ee-9b19-10bf93542326",
   "metadata": {},
   "outputs": [
    {
     "name": "stdout",
     "output_type": "stream",
     "text": [
      "Horas: 0, Minutos: 45, Segundos 43\n"
     ]
    }
   ],
   "source": [
    "def convertirTiempo(segundos):\n",
    "    try:\n",
    "        if segundos >=0:\n",
    "            horas = int(segundos / 3600) \n",
    "            segundos=segundos%3600\n",
    "            minutos = int(segundos /60)\n",
    "            segundos=segundos%60\n",
    "            print(f\"Horas: {horas}, Minutos: {minutos}, Segundos {segundos}\")\n",
    "        else:\n",
    "            print(\"Debe ingresar un valor numerico positivo\")\n",
    "    except Exception as e:\n",
    "        print(\"ocurrio un error revise los segundos enviados\",e)\n",
    "    \n",
    "convertirTiempo(2743)\n",
    "    "
   ]
  },
  {
   "cell_type": "markdown",
   "id": "bdf7dd7d-46b7-405f-8aec-0809744750fa",
   "metadata": {},
   "source": [
    "2. Haga una funcion en Python que dado un numero entre 1 y 20. Y un caracter cualquiera \n",
    "despliegue cuatro patronesiangulare.nte"
   ]
  },
  {
   "cell_type": "code",
   "execution_count": 1,
   "id": "dcb1dfae-80c1-4cff-95a8-18a2d2e261ef",
   "metadata": {},
   "outputs": [
    {
     "name": "stdout",
     "output_type": "stream",
     "text": [
      "*     ****     ****    *\n",
      "**     ***     ***    **\n",
      "***     **     **    ***\n",
      "****     *     *    ****\n"
     ]
    }
   ],
   "source": [
    "def  dibujaTriangulos(tamanyo,caracter):\n",
    "    try:\n",
    "        if tamanyo >=1 and tamanyo<=20:  \n",
    "            for i in range(1,tamanyo+1):\n",
    "                print(caracter * i,end=\"     \")\n",
    "                print(caracter * (tamanyo+1-i),end=\"     \")\n",
    "                print(caracter * ((tamanyo+1)-i),end=\"    \")\n",
    "                print(caracter*i)\n",
    "                       \n",
    "        else:\n",
    "            print(\"debe ingresar un numero entre 1 y 20\")\n",
    "    except Exception as e:\n",
    "        print(\"ocurrio un error revise el valor del tamanyo\",e)\n",
    "\n",
    "dibujaTriangulos(4,'*')"
   ]
  },
  {
   "cell_type": "markdown",
   "id": "37181a58-7e4c-4a42-8957-3a001c243a40",
   "metadata": {},
   "source": [
    "3. Haga un programa en Python que la fecha de nacimiento de una persona (puede ingresar por\n",
    "separado cada valor, es decir pedir primero dıa, luego mes y luego anyo), despliegue la edad\n",
    "de la persona en anyos, meses y dıas. Su resultado puede ser aproximado."
   ]
  },
  {
   "cell_type": "code",
   "execution_count": 24,
   "id": "03b30b1b-adfd-4752-827b-6ddb1ca560ce",
   "metadata": {
    "tags": []
   },
   "outputs": [
    {
     "name": "stdout",
     "output_type": "stream",
     "text": [
      "Ingrese su fecha de nacimiento:\n"
     ]
    },
    {
     "name": "stdin",
     "output_type": "stream",
     "text": [
      "Año:  1979\n",
      "Mes:  1\n",
      "Día:  10\n"
     ]
    },
    {
     "name": "stdout",
     "output_type": "stream",
     "text": [
      "dia valido\n",
      "Tu edad es: 45 anyos con : 1 y 27 dias\n"
     ]
    }
   ],
   "source": [
    "#se usa esta libreria para poder validar que sea un dia dentro del mes y anyo seleccionado.\n",
    "import calendar\n",
    "from datetime import datetime\n",
    "print(\"Ingrese su fecha de nacimiento:\")\n",
    "try:\n",
    "    anyo = int(input(\"Año: \"))\n",
    "    mes = int(input(\"Mes: \"))\n",
    "    if (mes>=1 and mes<=12):\n",
    "        dia = int(input(\"Día: \"))\n",
    "        #obteniendo el numero maximo segun mes y anyo\n",
    "        max_dia = calendar.monthrange(anyo, mes)[1]\n",
    "        if dia >= 1 and dia <= max_dia:\n",
    "            print(\"dia valido\")\n",
    "            fecha_nacimiento = datetime(anyo, mes, dia)\n",
    "            #calculando la edad \n",
    "            fecha_actual = datetime.now()\n",
    "            edad = fecha_actual - fecha_nacimiento\n",
    "            anyosCalculados = edad.days // 365\n",
    "            mesesCalculados = (edad.days % 365) // 30\n",
    "            diasCalculados = (edad.days % 365) % 30\n",
    "            \n",
    "            print(f\"Tu edad es: {anyosCalculados} anyos con : {mesesCalculados} y {diasCalculados} dias\")\n",
    "        else:\n",
    "            print(\"debe ingresar un dia valido\")\n",
    "    else:\n",
    "        print(\"el mes es incorrecto, revise sus datos\")\n",
    "except Exception as e:\n",
    "    print(\"Debe ingresar valores numericos\",e)"
   ]
  },
  {
   "cell_type": "markdown",
   "id": "58f63a6b-edb8-4341-9fb6-da902be586db",
   "metadata": {},
   "source": [
    "4. Escriba una funcion en Python que dada una tupla de elementos (numeros o letras) esta se\n",
    "convierta a un string. Tomar nota del siguiente ejemplo:\n",
    "Si la entrada fuera: (10, 20, 40, 5, 70)\n",
    "La salida deber´ıa ser: 102040570"
   ]
  },
  {
   "cell_type": "code",
   "execution_count": 29,
   "id": "2d6ba59f-22d3-45a5-b53b-879cdd4fefcf",
   "metadata": {
    "tags": []
   },
   "outputs": [
    {
     "name": "stdout",
     "output_type": "stream",
     "text": [
      "102040570\n"
     ]
    }
   ],
   "source": [
    "def convertirListaEnCadena(tupla):\n",
    "    resultado = \"\"\n",
    "    #leyendo cada valor de la tupla y concatenandola en variable resultado\n",
    "    for elemento in tupla:\n",
    "        resultado =resultado + str(elemento)\n",
    "    return resultado\n",
    "\n",
    "tupla=(10,20,40,5,70)\n",
    "resultado = convertirListaEnCadena(tupla)\n",
    "print(resultado)\n"
   ]
  },
  {
   "cell_type": "markdown",
   "id": "a11ba262-7505-42ce-9a46-9298684b8f24",
   "metadata": {},
   "source": [
    "5. Cree un programa en Python que dada una lista de tuplas, elimine las tuplas que est´an vac´ıas.\n",
    "Tomar nota del siguiente ejemplo:\n",
    "Si la lista fuera: [(), (), (’X’,), (’a’, ’b’), (’a’, ’b’, ’c’), (’d’)]\n",
    "El resultado deber´ıa ser: [(’X’), (’a’, ’b’), (’a’, ’b’, ’c’), ’d’]"
   ]
  },
  {
   "cell_type": "code",
   "execution_count": 32,
   "id": "5bdba71a-9b74-4e89-889b-22079211ca2e",
   "metadata": {
    "tags": []
   },
   "outputs": [
    {
     "name": "stdout",
     "output_type": "stream",
     "text": [
      "[('X',), ('a', 'b'), ('a', 'b', 'c'), 'd']\n"
     ]
    }
   ],
   "source": [
    "lista = [(), (), ('X',), ('a', 'b'), ('a', 'b', 'c'), ('d')]\n",
    "listaSinVacios = [tupla for tupla in lista if tupla]  #if tubla es quien filtra solo los que tienen datos.\n",
    "print(listaSinVacios)"
   ]
  },
  {
   "cell_type": "markdown",
   "id": "67693593-51a8-4824-a67f-15b58d2fbe7a",
   "metadata": {},
   "source": [
    "6. Cree una funcion en Python que dada una tupla de tuplas con numeros, produzca una tupla\n",
    "con el promedio de cada tupla individual, debe usar comprehensions para desarrollar este\n",
    "ejercicio. Tomar nota del siguiente ejemplo:\n",
    "Si la tupla de entrada fuera: ((10, 10, 10, 12), (30, 45, 56, 45), (81, 80, 39, 32))\n",
    "El resultado deber´ıa ser: (10.5, 44, 58)"
   ]
  },
  {
   "cell_type": "code",
   "execution_count": 38,
   "id": "a5ad7903-bb9d-450b-8c55-cd1b2b4f850a",
   "metadata": {
    "tags": []
   },
   "outputs": [
    {
     "name": "stdout",
     "output_type": "stream",
     "text": [
      "La tupla con promedio es: (10.5, 44.0, 58.0)\n"
     ]
    }
   ],
   "source": [
    "def promedio(tuplaOriginal):\n",
    "    # Calcula el promedio de cada tupla y crea una nueva tupla con los promedios\n",
    "    #las funciones sum (suma cada tupla y divido por la cantidad de datos nos da el promedio\n",
    "    return tuple(sum(tupla) / len(tupla) for tupla in tuplaOriginal)\n",
    "\n",
    "# Ejemplo de uso:\n",
    "tuplaOriginal = ((10, 10, 10, 12), (30, 45, 56, 45), (81, 80, 39, 32))\n",
    "resultado = promedio(tuplaOriginal)\n",
    "print(\"La tupla con promedio es:\", resultado)"
   ]
  },
  {
   "cell_type": "markdown",
   "id": "7947197e-04c7-4b75-99a6-c0692532141f",
   "metadata": {},
   "source": [
    "7. Escribir un programa que gestione las facturas pendientes de cobro de una empresa. Las\n",
    "facturas se almacenar´an en un diccionario donde la llave de cada factura ser´a el nu´mero de\n",
    "factura (debe utilizar un numero de 4 d´ıgitos) y el valor el coste de la factura. El programa\n",
    "debe preguntar al usuario si quiere an˜adir una nueva factura, pagar una existente o terminar.\n",
    "Si desea an˜adir una nueva factura se preguntar´a por el nu´mero de factura y su coste y se\n",
    "an˜adir´a al diccionario, para confirmar que la factura se ingreso correctamente el programa\n",
    "debe desplegar el diccionario completo. Si se desea pagar una factura se preguntar´a por el\n",
    "nu´mero de factura y se eliminar´a del diccionario. Despu´es de cada operaci´on el programa\n",
    "debe mostrar en pantalla la cantidad cobrada hasta el momento y la cantidad pendiente de\n",
    "cobro. Puede utilizar otras estructuras de datos como apoyo si lo considera necesario."
   ]
  },
  {
   "cell_type": "code",
   "execution_count": 61,
   "id": "b3e7d132-dba7-4d49-bb52-989cb83423a2",
   "metadata": {
    "tags": []
   },
   "outputs": [
    {
     "name": "stdout",
     "output_type": "stream",
     "text": [
      "1. Agregar una factura\n",
      "2. Pagar una factura\n",
      "3. Salir\n"
     ]
    },
    {
     "name": "stdin",
     "output_type": "stream",
     "text": [
      "Seleccione una opción:  1\n",
      "Ingrese el número de 4 digitos para la factura:  1234\n",
      "Ingrese el monto de la factura:  300\n"
     ]
    },
    {
     "name": "stdout",
     "output_type": "stream",
     "text": [
      "Factura creada correctamente:\n",
      "******DICCIONARIO COMPLETO**********\n",
      "{'1234': 300.0}\n",
      "******DATOS DE LOS COBROS***********\n",
      "Total cobrado: 0\n",
      "Total pendiente de cobro: 300.0\n",
      "1. Agregar una factura\n",
      "2. Pagar una factura\n",
      "3. Salir\n"
     ]
    },
    {
     "name": "stdin",
     "output_type": "stream",
     "text": [
      "Seleccione una opción:  3\n"
     ]
    },
    {
     "name": "stdout",
     "output_type": "stream",
     "text": [
      "FIN DEL PROGRAMA\n"
     ]
    }
   ],
   "source": [
    "def agregarFactura(facturas):\n",
    "    numeroFactura = input(\"Ingrese el número de 4 digitos para la factura: \")\n",
    "    ''' \n",
    "    para que no nos saque del programa se hizo este while para que no este pidiendo el numero\n",
    "    mientras que no sea valido, es decir nos deja pasar hasta que sea correcto el valor\n",
    "    '''\n",
    "    while not numeroFactura.isdigit() or len(numeroFactura) != 4:\n",
    "        print(\"Número de factura inválido. Debe ser un número de 4 dígitos.\")\n",
    "        numeroFactura = input(\"Ingrese el número de factura (4 dígitos): \")\n",
    "    try:\n",
    "        monto = float(input(\"Ingrese el monto de la factura: \"))\n",
    "        facturas[numeroFactura] = monto\n",
    "        print(\"Factura creada correctamente:\")\n",
    "        print(\"******DICCIONARIO COMPLETO**********\")\n",
    "        print(facturas)\n",
    "    except Exception as e:\n",
    "        print(\"Existio un error al ingresar la factura, revise sus datos\",e)\n",
    "    \n",
    "def pagarFactura(facturas, facturasPagadas):\n",
    "    numeroFactura = input(\"Ingrese el número de factura a pagar: \")\n",
    "    if numeroFactura in facturas:\n",
    "        monto = facturas.pop(numeroFactura)  \n",
    "        facturasPagadas[numeroFactura] = monto\n",
    "        print(\"Factura pagada correctamente.\")\n",
    "    else:\n",
    "        print(\"Factura no encontrada!!.\")\n",
    "\n",
    "#este procedimemiento se creo porque si no habia que poner esas 4 lineas en cada opcion \n",
    "def mostrar_estado_facturas(facturas,facturasPagadas):\n",
    "    total_cobrado = sum(facturasPagadas.values())\n",
    "    total_pendiente = sum(facturas.values())\n",
    "    print(\"Total cobrado:\", total_cobrado)\n",
    "    print(\"Total pendiente de cobro:\", total_pendiente)     \n",
    "        \n",
    "def inicio():\n",
    "    facturas = {}\n",
    "    facturasPagadas={}\n",
    "    while True: #menu de opciones que se mostrara hasta que se ingrese la opcion 3\n",
    "        print(\"1. Agregar una factura\")\n",
    "        print(\"2. Pagar una factura\")\n",
    "        print(\"3. Salir\")\n",
    "        opcion = input(\"Seleccione una opción: \")\n",
    "        if opcion == \"1\":\n",
    "            agregarFactura(facturas)\n",
    "            print(\"******DATOS DE LOS COBROS***********\")\n",
    "            mostrar_estado_facturas(facturas,facturasPagadas)\n",
    "        elif opcion == \"2\":\n",
    "            pagarFactura(facturas,facturasPagadas)\n",
    "            mostrar_estado_facturas(facturas,facturasPagadas)\n",
    "        elif opcion == \"3\":\n",
    "            print(\"FIN DEL PROGRAMA\")\n",
    "            break\n",
    "        else:\n",
    "            print(\"Opción no válida. Por favor, seleccione una opción válida.\")\n",
    "\n",
    "inicio()"
   ]
  },
  {
   "cell_type": "markdown",
   "id": "0fb39ac1-a7e3-4e6a-b2bb-41a3ab9a43ec",
   "metadata": {},
   "source": [
    "8. Haga una funcion en Python, que cree un set con todas las cartas de una baraja de Pocker utilizando el siguiente formato: Tipo-Numero. Utilice las letras T para treboles, C para\n",
    "corazones, P para picas y E para espadas. Para los numeros utilice la numeracion del 1 al\n",
    "13 Por ejemplo E13 - serıa Rey de Espadas, P01 serıa As de Picas, T05 serıa cinco de Treboles.\n",
    "Posteriormente cree una funcion que dado el conjunto anterior cree dos sets nuevos de cartas,\n",
    "cada conjunto debe tener una cantidad variable de elementos, puede utilizar nu´meros aleatorios enteros para definir la longitud de los conjuntos.\n",
    "Adicionalmente, debera calcular la probabilidad de la intersecci´on de ambos conjuntos y demuestre si son eventos independientes con la regla del producto.\n",
    "Para concluir, calcule probabilidad de la union de ambos conjuntos y demuestre que se cumple\n",
    "la regla de la adici´on"
   ]
  },
  {
   "cell_type": "code",
   "execution_count": 126,
   "id": "53c5b9c0-c026-4584-a325-1d5879229aa7",
   "metadata": {
    "tags": []
   },
   "outputs": [
    {
     "name": "stdout",
     "output_type": "stream",
     "text": [
      "******CARTAS CREADAS, TOTAL CARTAS=52********\n",
      "{'E9', 'E3', 'P1', 'T12', 'T2', 'P11', 'E1', 'C6', 'E4', 'T13', 'C8', 'P6', 'T3', 'C9', 'E8', 'P13', 'E7', 'C5', 'P12', 'E5', 'T8', 'P7', 'T10', 'C7', 'T9', 'T5', 'T7', 'P8', 'C13', 'E13', 'P3', 'E12', 'C3', 'E11', 'T1', 'T4', 'C4', 'C2', 'C11', 'T6', 'E2', 'T11', 'C10', 'C1', 'P4', 'E10', 'P5', 'E6', 'P2', 'P10', 'C12', 'P9'}\n",
      "******CONJUNTO 1 CREADO CON CANTIDAD DE CARTAS =23********\n",
      "set1= {'E9', 'E3', 'T12', 'T2', 'P6', 'P13', 'E7', 'C5', 'E5', 'T8', 'P8', 'T5', 'T9', 'E12', 'C3', 'T1', 'C2', 'T6', 'C10', 'P4', 'C1', 'P2', 'P10'}\n",
      "******CONJUNTO 2 CREADO CON CANTIDAD DE CARTAS =41********\n",
      "set2= {'E9', 'E3', 'P1', 'T12', 'E1', 'E4', 'T13', 'C8', 'P6', 'T3', 'C9', 'E8', 'P13', 'E7', 'C5', 'P12', 'E5', 'P7', 'T10', 'P8', 'T9', 'T7', 'T5', 'P3', 'E12', 'C3', 'E11', 'C4', 'T4', 'T1', 'C11', 'E2', 'E10', 'T6', 'T11', 'C1', 'P4', 'P5', 'P2', 'P10', 'P9'}\n",
      "******PROBABILDAD DE INTERSECCION********\n",
      "interseccion= {'E9', 'E3', 'T12', 'P6', 'P13', 'E7', 'C5', 'E5', 'P8', 'T5', 'T9', 'E12', 'C3', 'T1', 'T6', 'P4', 'C1', 'P2', 'P10'}\n",
      "probabilidad de la interseccion= 0.36538461538461536\n",
      "probabilidad de set1= 0.4423076923076923\n",
      "probabilidad de set2= 0.7884615384615384\n",
      "Los eventos no son independientes.\n",
      "******PROBABILDAD DE UNION********\n",
      "union= {'T2', 'E1', 'E4', 'T13', 'P6', 'T3', 'P13', 'E7', 'P12', 'E5', 'T10', 'P8', 'T9', 'T7', 'E11', 'C4', 'C2', 'C11', 'E2', 'E10', 'C10', 'P4', 'C1', 'P2', 'P9', 'E9', 'E3', 'P1', 'T12', 'C8', 'C9', 'E8', 'C5', 'T8', 'P7', 'T5', 'P3', 'E12', 'C3', 'T1', 'T4', 'T6', 'T11', 'P5', 'P10'}\n",
      "regla de adicion= {'T2', 'E1', 'E4', 'T13', 'P6', 'T3', 'P13', 'E7', 'P12', 'E5', 'T10', 'P8', 'T9', 'T7', 'E11', 'C4', 'C2', 'C11', 'E2', 'E10', 'C10', 'P4', 'C1', 'P2', 'P9', 'E9', 'E3', 'P1', 'T12', 'C8', 'C9', 'E8', 'C5', 'T8', 'P7', 'T5', 'P3', 'E12', 'C3', 'T1', 'T4', 'T6', 'T11', 'P5', 'P10'}\n",
      "probabilidad de la union= 0.8653846153846154\n",
      "Se cumple la regla de la adición en la unión de conjuntos.\n"
     ]
    }
   ],
   "source": [
    "import random\n",
    "def crearCartas():\n",
    "    numeros1_13 = range(1,14) #genero numeros del 1 al 13\n",
    "    tipos = ['T', 'C', 'P', 'E']\n",
    "    mazo = set()\n",
    "    for tipo in tipos:\n",
    "        for numero in numeros1_13:\n",
    "            carta = tipo + str(numero)\n",
    "            mazo.add(carta)\n",
    "    return mazo\n",
    "\n",
    "\n",
    "def generarConjunto(cartas52):\n",
    "    # Converti a lista. tuve que hacer esto porque no funcionaba con  set el random y luego al final vuelvo a convertirlos en set\n",
    "    carta52Lista = list(cartas52)  \n",
    "    cantidad1 = random.randint(1, len(cartas52))\n",
    "    cantidad2 = random.randint(1, len(cartas52))\n",
    "    #ojo en estos dos set pueden haber cartas repetidas ya que el enunciado no dice nada sobre que en los set no podian haber repetidos\n",
    "    set1 = set(random.sample(carta52Lista, cantidad1))\n",
    "    set2 = set(random.sample(carta52Lista, cantidad2))\n",
    "    return set1, set2\n",
    "\n",
    "cartas52 = crearCartas()\n",
    "print(f\"******CARTAS CREADAS, TOTAL CARTAS={len(cartas52)}********\")\n",
    "print(cartas52)\n",
    "set1, set2 = generarConjunto(cartas52)\n",
    "print(f\"******CONJUNTO 1 CREADO CON CANTIDAD DE CARTAS ={len(set1)}********\")\n",
    "print(\"set1=\",set1)\n",
    "print(f\"******CONJUNTO 2 CREADO CON CANTIDAD DE CARTAS ={len(set2)}********\")\n",
    "print(\"set2=\",set2)\n",
    "print(\"******PROBABILDAD DE INTERSECCION********\")\n",
    "print(\"interseccion=\",set1.intersection(set2))\n",
    "probabilidadInterseccion=len(set1.intersection(set2))/len(cartas)\n",
    "probabilidadSet1=len(set1)/len(cartas)\n",
    "probabilidadSet2=len(set2)/len(cartas)\n",
    "print(\"probabilidad de la interseccion=\",probabilidadInterseccion)\n",
    "print(\"probabilidad de set1=\",probabilidadSet1)\n",
    "print(\"probabilidad de set2=\",probabilidadSet2)\n",
    "#si los productos de las probabilidades de set1 y set2 es igual a la interseccion P(A∩B)=P(A)+P(B)\n",
    "if probabilidadInterseccion == probabilidadSet1*probabilidadSet2:\n",
    "    print(\"Los eventos son independientes.\")\n",
    "else:\n",
    "    print(\"Los eventos no son independientes.\")\n",
    "\n",
    "\n",
    "print(\"******PROBABILDAD DE UNION********\")\n",
    "print(\"union=\",set1.union(set2))\n",
    "print(\"regla de adicion=\",set1 | set2)\n",
    "probabilidadUnion=len(set1.union(set2))/len(cartas)\n",
    "print(\"probabilidad de la union=\",probabilidadUnion)\n",
    "# para comprobar la regla de la adicion se debe cumplir lo siguiente P(A∪B)=P(A)+P(B)−P(A∩B)\n",
    "if probabilidadUnion == probabilidadSet1+probabilidadSet2-probabilidadInterseccion:\n",
    "    print(\"Se cumple la regla de la adición en la unión de conjuntos.\")\n",
    "else:\n",
    "    print(\"No se cumple la regla de la adición en la unión de conjuntos.\")\n"
   ]
  }
 ],
 "metadata": {
  "kernelspec": {
   "display_name": "Python 3 (ipykernel)",
   "language": "python",
   "name": "python3"
  },
  "language_info": {
   "codemirror_mode": {
    "name": "ipython",
    "version": 3
   },
   "file_extension": ".py",
   "mimetype": "text/x-python",
   "name": "python",
   "nbconvert_exporter": "python",
   "pygments_lexer": "ipython3",
   "version": "3.11.7"
  }
 },
 "nbformat": 4,
 "nbformat_minor": 5
}
