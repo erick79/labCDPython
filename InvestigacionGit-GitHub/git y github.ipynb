{
 "cells": [
  {
   "cell_type": "markdown",
   "id": "93516f61-70b7-484b-9038-c983e315c35e",
   "metadata": {},
   "source": [
    "# UNIVERSIDAD GALILEO \n",
    "# CARNET:  09003788 \n",
    "# NOMBRE:  ERICK SANABRIA\n",
    "---"
   ]
  },
  {
   "cell_type": "markdown",
   "id": "76ac10f5-fe0e-4be2-b8dd-aee94e683d5d",
   "metadata": {},
   "source": [
    "## <center><U>INTRODUCCIÓN</U></center>"
   ]
  },
  {
   "cell_type": "markdown",
   "id": "23ef9d13-0943-459c-ad21-8b71258cb6d6",
   "metadata": {},
   "source": [
    "Git y GitHub son herramientas fundamentales en el desarrollo de software colaborativo. Git es un sistema de control de versiones que rastrea cambios en el código, facilitando la colaboración entre desarrolladores. GitHub, por otro lado, es una plataforma en línea que utiliza Git y proporciona un entorno colaborativo para almacenar, compartir y gestionar proyectos de software. Los desarrolladores pueden trabajar en paralelo en distintas características sin interferencias. GitHub también ofrece características como problemas, seguimiento de errores y solicitudes de extracción, mejorando la gestión de proyectos de software de manera eficiente. En resumen, Git y GitHub son esenciales para la gestión y colaboración efectiva en proyectos de desarrollo de software."
   ]
  },
  {
   "cell_type": "markdown",
   "id": "69aca290-18a5-4842-827a-0b9df75d9913",
   "metadata": {},
   "source": [
    "### <center><U>QUÉ ES GIT</U></center>"
   ]
  },
  {
   "cell_type": "markdown",
   "id": "92439c7b-026d-4a50-af6a-1e6c74f7b14f",
   "metadata": {},
   "source": [
    "Git es un sistema de control de versiones distribuido, lo que significa que un clon local del proyecto es un repositorio de control de versiones completo. Estos repositorios locales plenamente funcionales permiten trabajar sin conexión o de forma remota con facilidad. Los desarrolladores confirman su trabajo localmente y, a continuación, sincronizan la copia del repositorio con la del servidor. Este paradigma es distinto del control de versiones centralizado, donde los clientes deben sincronizar el código con un servidor antes de crear nuevas versiones. Las confirmaciones crean vínculos a otras confirmaciones, formando un gráfico del historial de desarrollo. Es posible revertir el código a una confirmación anterior, inspeccionar cómo cambian los archivos de una confirmación a la siguiente y revisar información como dónde y cuándo se realizaron los cambios. Las confirmaciones se identifican en Git mediante un hash criptográfico único del contenido de la confirmación. Dado que todo tiene hash, es imposible realizar cambios, perder la información o dañar los archivos sin que Git lo detecte.\n",
    "p>\n"
   ]
  },
  {
   "cell_type": "markdown",
   "id": "6e1085b8-5b59-4b13-b47e-814ab6cd947a",
   "metadata": {},
   "source": [
    "Git es un sistema de control de versiones distribuido, lo que significa que un clon local del proyecto es un repositorio de control de versiones completo. Estos repositorios locales plenamente funcionales permiten trabajar sin conexión o de forma remota con facilidad. Los desarrolladores confirman su trabajo localmente y, a continuación, sincronizan la copia del repositorio con la del servidor. Este paradigma es distinto del control de versiones centralizado, donde los clientes deben sincronizar el código con un servidor antes de crear nuevas versiones. Las confirmaciones crean vínculos a otras confirmaciones, formando un gráfico del historial de desarrollo. Es posible revertir el código a una confirmación anterior, inspeccionar cómo cambian los archivos de una confirmación a la siguiente y revisar información como dónde y cuándo se realizaron los cambios. Las confirmaciones se identifican en Git mediante un hash criptográfico único del contenido de la confirmación. Dado que todo tiene hash, es imposible realizar cambios, perder la información o dañar los archivos sin que Git lo detecte\n",
    "\n",
    "<b>Aspectos Básicos de Git</b>\n",
    "\n",
    "Cada vez que se guarda el trabajo, Git crea una confirmación. Una confirmación es una instantánea de todos los archivos en un momento dado. Si un archivo no ha cambiado de una confirmación a la siguiente, Git usa el archivo almacenado anteriormente. Este diseño difiere de otros sistemas que almacenan una versión inicial de un archivo y mantienen un registro de las diferencias a lo largo del tiempo.\n",
    "\n",
    "<b>Ramas</b>\n",
    "\n",
    "Cada desarrollador guarda los cambios en su propio repositorio de código local. Como resultado, puede haber muchos cambios diferentes basados en la misma confirmación. Git proporciona herramientas para aislar los cambios y volver a combinarlos posteriormente. Las ramas, que son punteros ligeros para el trabajo en curso, administran esta separación. Una vez finalizado el trabajo creado en una rama, se puede combinar de nuevo en la rama principal (o troncal) del equipo\n",
    "\n",
    "<img src=\"imagen1_GIT.png\">\n",
    "<b>Ventajas de GIT</b><br>\n",
    "- Desarrollo simultaneo<br>\n",
    "- Versiones de lanzamiento más rápido<br>\n",
    "- Integración incorporada<br>\n",
    "- GIT funciona con cualquier equipo<br>"
   ]
  },
  {
   "cell_type": "markdown",
   "id": "dc9f4e3d-8fad-4458-af73-1ffbb20560bc",
   "metadata": {},
   "source": [
    "### <center><U>CONFIGURACIÓN DE REPOSITORIO GIT</U></center>"
   ]
  },
  {
   "cell_type": "markdown",
   "id": "47d87b41-725d-4e9c-8f82-e6979fc9b9b2",
   "metadata": {},
   "source": [
    "Un repositorio de Git es una carpeta en la que Git realiza un seguimiento de los cambios. Puede haber varios repositorios en un equipo, cada uno almacenado en su propia carpeta. Cada repositorio de Git de un sistema es independiente, por lo que los cambios guardados en un repositorio de Git no afectan al contenido de otro.\n",
    "\r\n",
    "Un repositorio de Git contiene cada versión de cada archivo guardado en el repositorio. Esto es diferente de otros sistemas de control de versiones que almacenan solo las diferencias entre los archivos. Git almacena las versiones de archivo en una carpeta .git oculta junto con otra información que necesita para administrar el código. Git guarda estos archivos de forma muy eficaz, por lo que tener un gran número de versiones no significa que utilice una gran cantidad de espacio en disco. Almacenar cada versión de un archivo ayuda a Git a combinar mejor el código y facilita y agiliza el trabajo con varias versiones de código.\r\n",
    "\r\n",
    "Los desarrolladores trabajan con Git a través de comandos emitidos mientras trabajan en un repositorio local en el equipo. Incluso cuando están compartiendo código o recibiendo actualizaciones del equipo, se hace con comandos que actualizan el repositorio local. Este diseño centrado en el entorno local es lo que hace que Git sea un sistema de control de versiones distribuido. Cada repositorio es independiente, y el propietario del repositorio es responsable de mantenerlo actualizado con los cambios de ot<br>\n",
    "\n",
    "<img src=\"imagen2_GIT.png\">ros."
   ]
  },
  {
   "cell_type": "markdown",
   "id": "0b4fdd7d-46d3-455b-846d-69a6e7782768",
   "metadata": {},
   "source": [
    "<img src=\"imagen2_GIT.png\">"
   ]
  },
  {
   "cell_type": "markdown",
   "id": "7bf3efb4-790e-411e-a2f1-47cde946c3b0",
   "metadata": {},
   "source": [
    "<b>Crear un repositorio a partir de un repositorio remoto</b><br>\n",
    "\n",
    "Use el comando git clone para copiar el contenido de un repositorio existente en una carpeta del equipo. En la línea de comandos, vaya a la carpeta que contiene el repositorio clonado y, a continuación, ejecute:\r\n",
    "   \n",
    "> git clone https://<fabrikam.visualstudio.com/DefaultCollection/Fabrikam/_git/FabrikamProject>\r\n",
    "\r\n",
    "Asegúrese de usar la dirección URL real en el repositorio existente en lugar de la dirección URL de marcador de posición que se muestra en este ejemplo. Esta dirección URL, denominada dirección URL de clonación, apunta a un servidor donde el equipo coordina los cambios. Obtenga esta dirección URL del equipo o del botón de clonar del sitio donde se hospeda el repositorio.\r\n",
    "\r\n",
    "No es necesario agregar archivos ni crear una confirmación inicial cuando se clone el repositorio, ya que se ha copiado todo, junto con el historial, desde el repositorio existente durante la operación de clonación."
   ]
  },
  {
   "cell_type": "markdown",
   "id": "13a5bc3a-4a1d-4895-b6a5-d59e586ca1be",
   "metadata": {},
   "source": [
    "### <center><U>QUÉ ES GITHUB</U></center>"
   ]
  },
  {
   "cell_type": "markdown",
   "id": "fbaf410e-027c-4d96-8711-e7c6cb786c03",
   "metadata": {},
   "source": [
    "GitHub es un servicio basado en la nube que aloja un sistema de control de versiones (VCS) llamado Git. Éste permite a los desarrolladores colaborar y realizar cambios en proyectos compartidos, a la vez que mantienen un seguimiento detallado de su progreso.\n",
    "\n",
    "GitHub es una plataforma de gestión y organización de proyectos basada en la nube que incorpora las funciones de control de versiones de Git. Es decir que todos los usuarios de GitHub pueden rastrear y gestionar los cambios que se realizan en el código fuente en tiempo real, a la vez que tienen acceso a todas las demás funciones de Git disponibles en el mismo lugar.\r\n",
    "\r\n",
    "Además, la interfaz de usuario de GitHub es más fácil de usar que la de Git, lo que la hace accesible para personas con pocos o ningún conocimiento técnico. Esto significa que se puede incluir a más miembros del equipo en el progreso y la gestión de un proyecto, haciendo que el proceso de desarrollo sea más fluido."
   ]
  },
  {
   "cell_type": "markdown",
   "id": "662daebb-0a8a-4e98-bb3e-75de931157c1",
   "metadata": {},
   "source": [
    "<b>Crear un repositorio en GITHUB</b><br>\n",
    "Un repositorio, o repo, será el eje central de tu proyecto. Puede ser un archivo o una colección de archivos que contengan código, imágenes, texto o cualquier otra cosa.\n",
    "\n",
    "Para comenzar el proceso, sigue estos pasos:<br>\n",
    "    1. Haz clic en Create a repository para iniciar un nuevo proyecto.\n",
    "<br>    2. La sección Owner ya tendrá el nombre de tu cuenta. Crea un nombre de repositorio. Comprueba si está configurado como Público para que sea de código abierto,y luego marca la casilla Add a README file. Finalmente, haz clic en Create repository.<br>\n",
    "   <img src=\"imagen3_GIT.png\"> <br>"
   ]
  },
  {
   "cell_type": "markdown",
   "id": "de860cdd-8048-4256-bf9d-5f99d1122765",
   "metadata": {},
   "source": [
    "### <center><U>MARCKDOWN</U></center>¶"
   ]
  },
  {
   "cell_type": "markdown",
   "id": "1756b266-c5d7-49ee-97c4-549ea890062c",
   "metadata": {},
   "source": [
    "Markdown es un lenguaje de marcado ligero ampliamente utilizado para formatear texto de manera sencilla y estructurada. Diseñado por John Gruber y Aaron Swartz, Markdown permite a los usuarios escribir contenido sin distracciones, utilizando caracteres simples para aplicar formato a elementos como encabezados, listas, enlaces y énfasis. Su sintaxis es intuitiva y fácil de aprender, lo que facilita la creación de documentos legibles sin la complejidad del HTML. Con soporte extendido en plataformas como GitHub, GitLab y diversas herramientas de blogging, Markdown ha ganado popularidad para la creación rápida y elegante de documentos, facilitando la presentación de información de manera consistente en diferentes entornos en línea.<p>\n",
    "En Jupyter Notebook, Markdown se utiliza como una forma de agregar formato, texto enriquecido y elementos multimedia a las celdas de texto. Puedes crear títulos, listas, enlaces, imágenes y más utilizando la sintaxis Markdown dentro de las celdas de tipo Markdown.\r\n",
    "\r\n",
    "Por ejemplo, para crear un título, simplemente precede el texto con uno o más símbolos de almohadilla #. Cuantos más almohadillas uses, más pequeño será el título. Además, puedes aplicar énfasis utilizando asteriscos o guiones bajos, y crear listas con asteriscos, guiones o números."
   ]
  },
  {
   "cell_type": "markdown",
   "id": "59e5ce68-d26f-4e98-aa71-d4f7f1fe7fe2",
   "metadata": {},
   "source": [
    "<b>Algunos comandos mas utilizados</b><br>\n",
    "<img src=\"imagen4_GIT.png\"> <img src=\"imagen5_GIT.png\"> <img src=\"imagen6_GIT.png\"> <p>\n"
   ]
  },
  {
   "cell_type": "markdown",
   "id": "18251f21-1f1f-4ca3-b7c9-9e5f4ca97496",
   "metadata": {},
   "source": [
    "### <center><U>MAGIC CELL</U></center>"
   ]
  },
  {
   "cell_type": "markdown",
   "id": "6b6f113c-2caa-4b67-8344-6493dc380e1e",
   "metadata": {},
   "source": [
    "\n",
    "En Jupyter Notebook, las \"magic cells\" se refieren a comandos especiales conocidos como \"comandos mágicos\" o simplemente \"magics\". Estos comandos proporcionan funcionalidades adicionales y características especiales para mejorar la interactividad y la eficiencia del entorno de Jupyter.\r\n",
    "\r\n",
    "Existen dos tipos de comandos mágicos:\r\n",
    "\r\n",
    "Línea Mágica (%): Se aplican a una única línea y se introducen con el símbolo %. Por ejemplo, %run se utiliza para ejecutar scripts externos.\r\n",
    "\r\n",
    "Celda Mágica (%%): Se aplican a toda la celda y se introducen con el símbolo %%. Estos comandos afectan a toda la celda en la que se encuentran. Por ejemplo, %%timeit se utiliza para medir el tiempo de ejecución de una celda de código.\r\n",
    "\r\n",
    "Algunos ejemplos de comandos mágicos comunes son:\r\n",
    "\r\n",
    "\r\n",
    "\r\n",
    "- %run: Ejecuta un script externo.- \r\n",
    "- %time y %timeit: Mide el tiempo de ejecución de una expresión o una celda.\r\n",
    "- %load: Carga el contenido de un archivo en una celda.\r\n",
    "- %matplotlib inline: Permite la visualización de gráficos de Matplotlib directamente en el notebook.\r\n",
    "- %%HTML: Permite la inserción de código HTML en una celda.\r\n",
    "- %lsmagic: Lista todos los comandos mágicos disponibles."
   ]
  }
 ],
 "metadata": {
  "kernelspec": {
   "display_name": "Python 3 (ipykernel)",
   "language": "python",
   "name": "python3"
  },
  "language_info": {
   "codemirror_mode": {
    "name": "ipython",
    "version": 3
   },
   "file_extension": ".py",
   "mimetype": "text/x-python",
   "name": "python",
   "nbconvert_exporter": "python",
   "pygments_lexer": "ipython3",
   "version": "3.11.7"
  }
 },
 "nbformat": 4,
 "nbformat_minor": 5
}
